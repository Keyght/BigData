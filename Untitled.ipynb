{
 "cells": [
  {
   "cell_type": "code",
   "execution_count": 1,
   "id": "f778430e",
   "metadata": {},
   "outputs": [],
   "source": [
    "def task1_2():\n",
    "    import math\n",
    "    a, h = (float(input('Введите высоту и основание треугольника ')) for i in range(2))\n",
    "    a1, a2 = (float(input('Введите сторону прямоугольника ')) for i in range(2))\n",
    "    r = float(input('Введите радиус окружности '))\n",
    "    if a < 0 or h < 0 or a1 < 0 or a2 < 0 or r < 0:\n",
    "        print('Ошибка! Введены отрицательные числа')\n",
    "    else:\n",
    "        ans = {'треугольник': a*h/2, 'прямоугольник': a1*a2, 'круг': math.pi*r*r}\n",
    "        print(ans)"
   ]
  },
  {
   "cell_type": "code",
   "execution_count": 2,
   "id": "0a032d8a",
   "metadata": {},
   "outputs": [],
   "source": [
    "def task1_3():\n",
    "    import math\n",
    "    a, b = (input('Введите число ') for i in range(2))\n",
    "    sign = input('Введите знак: +, -, /, //, abs, pow или ** ')\n",
    "    if sign == '+':\n",
    "        return float(a) + float(b)\n",
    "    elif sign == '-':\n",
    "        return float(a) - float(b)\n",
    "    elif sign == '/':\n",
    "        return float(a) / float(b)\n",
    "    elif sign == '//':\n",
    "        if (float(a) < 0 or float(b) < 0) and not (float(a) < 0 and float(b) < 0):\n",
    "            return abs(-float(a) // float(b))\n",
    "        else:\n",
    "            return float(a) // float(b)\n",
    "    elif sign == 'abs':\n",
    "        return abs(float(a)), abs(float(b))\n",
    "    elif sign == 'pow' or sign == '**':\n",
    "        return math.pow(float(b),float(b))\n",
    "    else:\n",
    "        print('Ошибка!')"
   ]
  },
  {
   "cell_type": "code",
   "execution_count": 3,
   "id": "ddc989f4",
   "metadata": {},
   "outputs": [],
   "source": [
    "def task1_4():\n",
    "    import math\n",
    "    a1, a2, a3 = (int(input('Введите сторону треугольника ')) for i in range(3))\n",
    "    if a1 < 0 or a2 < 0 or a3 < 0:\n",
    "        print('Ошибка! Введены отрицательные числа')\n",
    "    elif a1 + a2 > a3 and a1 + a3 > a2 and a2 + a3 > a1:\n",
    "        p = float((a1+a2+a3)/2)\n",
    "        ans = math.sqrt(p*(p-a1)*(p-a2)*(p-a3))\n",
    "        print(ans)\n",
    "    else:\n",
    "        print('Треугольник не существует')"
   ]
  },
  {
   "cell_type": "code",
   "execution_count": 4,
   "id": "017f1626",
   "metadata": {},
   "outputs": [
    {
     "name": "stdout",
     "output_type": "stream",
     "text": [
      "Введите сторону треугольника 3\n",
      "Введите сторону треугольника 4\n",
      "Введите сторону треугольника 5\n",
      "6.0\n"
     ]
    }
   ],
   "source": [
    "task1_4()"
   ]
  },
  {
   "cell_type": "code",
   "execution_count": 5,
   "id": "3b446d6e",
   "metadata": {},
   "outputs": [
    {
     "name": "stdout",
     "output_type": "stream",
     "text": [
      "Введите число -5\n",
      "Введите число 8\n",
      "Введите знак: +, -, /, //, abs, pow или ** abs\n",
      "(5.0, 8.0)\n"
     ]
    }
   ],
   "source": [
    "print(task1_3())"
   ]
  },
  {
   "cell_type": "code",
   "execution_count": null,
   "id": "6f2a8f59",
   "metadata": {},
   "outputs": [],
   "source": []
  }
 ],
 "metadata": {
  "kernelspec": {
   "display_name": "Python 3 (ipykernel)",
   "language": "python",
   "name": "python3"
  },
  "language_info": {
   "codemirror_mode": {
    "name": "ipython",
    "version": 3
   },
   "file_extension": ".py",
   "mimetype": "text/x-python",
   "name": "python",
   "nbconvert_exporter": "python",
   "pygments_lexer": "ipython3",
   "version": "3.9.12"
  }
 },
 "nbformat": 4,
 "nbformat_minor": 5
}
