{
 "cells": [
  {
   "cell_type": "code",
   "execution_count": 1,
   "id": "e7b1c9f8",
   "metadata": {},
   "outputs": [],
   "source": [
    "def task2_1():\n",
    "    sum = 0\n",
    "    sum2=0 \n",
    "    a = int(input('Введите число '))\n",
    "    sum+=a\n",
    "    sum2+=a*a\n",
    "    while sum != 0:\n",
    "        a = int(input('Введите число '))\n",
    "        sum+=a\n",
    "        sum2+=a*a\n",
    "    print(sum2)"
   ]
  },
  {
   "cell_type": "code",
   "execution_count": 2,
   "id": "cd371135",
   "metadata": {},
   "outputs": [],
   "source": [
    "def task2_2():\n",
    "    n = int(input('Введите неотрицательное число '))\n",
    "    l = []\n",
    "    if n < 0:\n",
    "        print('Ошибка! Введено отрицательное число')\n",
    "    else:\n",
    "        for i in range(1,n):\n",
    "            for j in range(i):\n",
    "                if len(l) < n:\n",
    "                    l.append(i)\n",
    "                else:\n",
    "                    break\n",
    "    print(*l)"
   ]
  },
  {
   "cell_type": "code",
   "execution_count": 3,
   "id": "edd3077c",
   "metadata": {},
   "outputs": [],
   "source": [
    "def task2_3():\n",
    "    import numpy as np\n",
    "    a, b = (int(input('Введите размер матрицы ')) for i in range(2))\n",
    "    m = np.random.rand(a,b)\n",
    "    l = []\n",
    "    for row in m:\n",
    "        for elim in row:\n",
    "            l.append(elim)\n",
    "    print(l)"
   ]
  },
  {
   "cell_type": "code",
   "execution_count": 4,
   "id": "51ed22f1",
   "metadata": {},
   "outputs": [],
   "source": [
    "def task2_4():\n",
    "    d = {}\n",
    "    A = [1,    2,   3,   4,   2,   1,   3,   4,   5,   6,   5,   4,   3,   2]\n",
    "    B = ['a', 'b', 'c', 'c', 'c', 'b', 'a', 'c', 'a', 'a', 'b', 'c', 'b', 'a']\n",
    "    for i in range(len(B)):\n",
    "        if B[i] in d.keys():\n",
    "            d[B[i]] += A[i]\n",
    "        else:\n",
    "            d[B[i]] = A[i]\n",
    "    print(d)"
   ]
  },
  {
   "cell_type": "code",
   "execution_count": 5,
   "id": "5e20f86e",
   "metadata": {},
   "outputs": [],
   "source": [
    "from sklearn.datasets import fetch_california_housing \n",
    "data = fetch_california_housing(as_frame=True)"
   ]
  },
  {
   "cell_type": "code",
   "execution_count": 6,
   "id": "ac0e90e8",
   "metadata": {},
   "outputs": [],
   "source": [
    "import pandas as pd\n",
    "s1 = pd.Series(data['target'])\n",
    "s2 = pd.DataFrame(data['data'])\n",
    "s = pd.concat([s2,s1],axis=1)"
   ]
  },
  {
   "cell_type": "code",
   "execution_count": 7,
   "id": "7ad41a85",
   "metadata": {},
   "outputs": [
    {
     "name": "stdout",
     "output_type": "stream",
     "text": [
      "<bound method DataFrame.info of        MedInc  HouseAge  AveRooms  AveBedrms  Population  AveOccup  Latitude  \\\n",
      "0      8.3252      41.0  6.984127   1.023810       322.0  2.555556     37.88   \n",
      "1      8.3014      21.0  6.238137   0.971880      2401.0  2.109842     37.86   \n",
      "2      7.2574      52.0  8.288136   1.073446       496.0  2.802260     37.85   \n",
      "3      5.6431      52.0  5.817352   1.073059       558.0  2.547945     37.85   \n",
      "4      3.8462      52.0  6.281853   1.081081       565.0  2.181467     37.85   \n",
      "...       ...       ...       ...        ...         ...       ...       ...   \n",
      "20635  1.5603      25.0  5.045455   1.133333       845.0  2.560606     39.48   \n",
      "20636  2.5568      18.0  6.114035   1.315789       356.0  3.122807     39.49   \n",
      "20637  1.7000      17.0  5.205543   1.120092      1007.0  2.325635     39.43   \n",
      "20638  1.8672      18.0  5.329513   1.171920       741.0  2.123209     39.43   \n",
      "20639  2.3886      16.0  5.254717   1.162264      1387.0  2.616981     39.37   \n",
      "\n",
      "       Longitude  MedHouseVal  \n",
      "0        -122.23        4.526  \n",
      "1        -122.22        3.585  \n",
      "2        -122.24        3.521  \n",
      "3        -122.25        3.413  \n",
      "4        -122.25        3.422  \n",
      "...          ...          ...  \n",
      "20635    -121.09        0.781  \n",
      "20636    -121.21        0.771  \n",
      "20637    -121.22        0.923  \n",
      "20638    -121.32        0.847  \n",
      "20639    -121.24        0.894  \n",
      "\n",
      "[20640 rows x 9 columns]>\n"
     ]
    }
   ],
   "source": [
    "print(s.info)"
   ]
  },
  {
   "cell_type": "code",
   "execution_count": 8,
   "id": "cca953da",
   "metadata": {},
   "outputs": [
    {
     "name": "stdout",
     "output_type": "stream",
     "text": [
      "MedInc        0\n",
      "HouseAge      0\n",
      "AveRooms      0\n",
      "AveBedrms     0\n",
      "Population    0\n",
      "AveOccup      0\n",
      "Latitude      0\n",
      "Longitude     0\n",
      "dtype: int64\n"
     ]
    }
   ],
   "source": [
    "print(s2.isna().sum())"
   ]
  },
  {
   "cell_type": "code",
   "execution_count": 9,
   "id": "c47a564e",
   "metadata": {},
   "outputs": [
    {
     "name": "stdout",
     "output_type": "stream",
     "text": [
      "       MedInc  HouseAge  AveRooms  AveBedrms  Population    AveOccup  \\\n",
      "460    1.4012      52.0  3.105714   1.060000      3337.0    9.534286   \n",
      "4131   3.5349      52.0  4.646119   1.047945      2589.0    5.910959   \n",
      "4440   2.6806      52.0  4.806283   1.057592      3062.0    4.007853   \n",
      "5986   1.8750      52.0  4.500000   1.206349      2688.0   21.333333   \n",
      "7369   3.1901      52.0  4.730942   1.017937      3731.0    4.182735   \n",
      "8227   2.3305      52.0  3.488860   1.170380      3018.0    3.955439   \n",
      "13034  6.1359      52.0  8.275862   1.517241      6675.0  230.172414   \n",
      "15634  1.8295      52.0  2.628169   1.053521      2957.0    4.164789   \n",
      "15652  0.9000      52.0  2.237474   1.053535      3260.0    2.237474   \n",
      "15657  2.5166      52.0  2.839075   1.184049      3436.0    1.621520   \n",
      "15659  1.7240      52.0  2.278566   1.082348      4518.0    1.780142   \n",
      "15795  2.5755      52.0  3.402576   1.058776      2619.0    2.108696   \n",
      "15868  2.8135      52.0  4.584329   1.041169      2987.0    3.966799   \n",
      "\n",
      "       Latitude  Longitude  \n",
      "460       37.87    -122.26  \n",
      "4131      34.13    -118.20  \n",
      "4440      34.08    -118.21  \n",
      "5986      34.10    -117.71  \n",
      "7369      33.97    -118.21  \n",
      "8227      33.78    -118.20  \n",
      "13034     38.69    -121.15  \n",
      "15634     37.80    -122.41  \n",
      "15652     37.80    -122.41  \n",
      "15657     37.79    -122.41  \n",
      "15659     37.79    -122.41  \n",
      "15795     37.77    -122.42  \n",
      "15868     37.76    -122.41  \n"
     ]
    }
   ],
   "source": [
    "print(s2.loc[(s2['HouseAge']>50)&(s2['Population']>2500)])"
   ]
  },
  {
   "cell_type": "code",
   "execution_count": 10,
   "id": "d97a1783",
   "metadata": {},
   "outputs": [
    {
     "name": "stdout",
     "output_type": "stream",
     "text": [
      "Максимальное значение -  5.00001 Минимиальное значение -  0.14999\n"
     ]
    }
   ],
   "source": [
    "print('Максимальное значение - ', s1.max(), 'Минимиальное значение - ', s1.min())"
   ]
  },
  {
   "cell_type": "code",
   "execution_count": 11,
   "id": "d0154fc6",
   "metadata": {},
   "outputs": [
    {
     "data": {
      "text/html": [
       "<div>\n",
       "<style scoped>\n",
       "    .dataframe tbody tr th:only-of-type {\n",
       "        vertical-align: middle;\n",
       "    }\n",
       "\n",
       "    .dataframe tbody tr th {\n",
       "        vertical-align: top;\n",
       "    }\n",
       "\n",
       "    .dataframe thead th {\n",
       "        text-align: right;\n",
       "    }\n",
       "</style>\n",
       "<table border=\"1\" class=\"dataframe\">\n",
       "  <thead>\n",
       "    <tr style=\"text-align: right;\">\n",
       "      <th></th>\n",
       "      <th>MedInc</th>\n",
       "      <th>HouseAge</th>\n",
       "      <th>AveRooms</th>\n",
       "      <th>AveBedrms</th>\n",
       "      <th>Population</th>\n",
       "      <th>AveOccup</th>\n",
       "      <th>Latitude</th>\n",
       "      <th>Longitude</th>\n",
       "    </tr>\n",
       "  </thead>\n",
       "  <tbody>\n",
       "    <tr>\n",
       "      <th>0</th>\n",
       "      <td>MedInc</td>\n",
       "      <td>HouseAge</td>\n",
       "      <td>AveRooms</td>\n",
       "      <td>AveBedrms</td>\n",
       "      <td>Population</td>\n",
       "      <td>AveOccup</td>\n",
       "      <td>Latitude</td>\n",
       "      <td>Longitude</td>\n",
       "    </tr>\n",
       "    <tr>\n",
       "      <th>1</th>\n",
       "      <td>3.870671</td>\n",
       "      <td>28.639486</td>\n",
       "      <td>5.429</td>\n",
       "      <td>1.096675</td>\n",
       "      <td>1425.476744</td>\n",
       "      <td>3.070655</td>\n",
       "      <td>35.631861</td>\n",
       "      <td>-119.569704</td>\n",
       "    </tr>\n",
       "  </tbody>\n",
       "</table>\n",
       "</div>"
      ],
      "text/plain": [
       "     MedInc   HouseAge  AveRooms  AveBedrms   Population  AveOccup   Latitude  \\\n",
       "0    MedInc   HouseAge  AveRooms  AveBedrms   Population  AveOccup   Latitude   \n",
       "1  3.870671  28.639486     5.429   1.096675  1425.476744  3.070655  35.631861   \n",
       "\n",
       "    Longitude  \n",
       "0   Longitude  \n",
       "1 -119.569704  "
      ]
     },
     "execution_count": 11,
     "metadata": {},
     "output_type": "execute_result"
    }
   ],
   "source": [
    "def f(x):\n",
    "    mean = x.mean()\n",
    "    return(x.name, mean)\n",
    "\n",
    "data['data'].apply(f,axis=0)"
   ]
  },
  {
   "cell_type": "code",
   "execution_count": null,
   "id": "a88e9e5e",
   "metadata": {},
   "outputs": [],
   "source": []
  }
 ],
 "metadata": {
  "kernelspec": {
   "display_name": "Python 3 (ipykernel)",
   "language": "python",
   "name": "python3"
  },
  "language_info": {
   "codemirror_mode": {
    "name": "ipython",
    "version": 3
   },
   "file_extension": ".py",
   "mimetype": "text/x-python",
   "name": "python",
   "nbconvert_exporter": "python",
   "pygments_lexer": "ipython3",
   "version": "3.9.12"
  }
 },
 "nbformat": 4,
 "nbformat_minor": 5
}
