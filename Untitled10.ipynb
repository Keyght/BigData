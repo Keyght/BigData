{
 "cells": [
  {
   "cell_type": "code",
   "execution_count": null,
   "id": "245a9397",
   "metadata": {},
   "outputs": [
    {
     "name": "stdout",
     "output_type": "stream",
     "text": [
      "Vector3(0,0,0)\n",
      "Vector3( 100000 , 0 , -55000 )"
     ]
    }
   ],
   "source": [
    "def parseTrans(This):\n",
    "    This = This[8:]\n",
    "    FirstFloat = This.partition(',')[0]\n",
    "    SecFloat = This.split(',')[1]\n",
    "    ThiFloat = This.split(',')[2]\n",
    "    ThiFloat = ThiFloat[:-1] \n",
    "    return [int(FirstFloat),int(SecFloat),int(ThiFloat)]\n",
    "    \n",
    "\n",
    "TransformLastBefore = 'Vector3(100000,0,-55000)'\n",
    "\n",
    "Before = parseTrans(TransformLastBefore)\n",
    "\n",
    "This = 1\n",
    "\n",
    "while This != 0:\n",
    "    This = input()\n",
    "    Current = parseTrans(This)\n",
    "    Res = []\n",
    "    for i in range(len(Current)):\n",
    "        Res.append(Current[i] + Before[i])\n",
    "    print('Vector3(',Res[0],',',Res[1],',',Res[2],')', end='')\n",
    "    "
   ]
  },
  {
   "cell_type": "code",
   "execution_count": null,
   "id": "63b575f4",
   "metadata": {},
   "outputs": [],
   "source": []
  },
  {
   "cell_type": "code",
   "execution_count": null,
   "id": "a7c8247a",
   "metadata": {},
   "outputs": [],
   "source": []
  }
 ],
 "metadata": {
  "kernelspec": {
   "display_name": "Python 3 (ipykernel)",
   "language": "python",
   "name": "python3"
  },
  "language_info": {
   "codemirror_mode": {
    "name": "ipython",
    "version": 3
   },
   "file_extension": ".py",
   "mimetype": "text/x-python",
   "name": "python",
   "nbconvert_exporter": "python",
   "pygments_lexer": "ipython3",
   "version": "3.9.12"
  }
 },
 "nbformat": 4,
 "nbformat_minor": 5
}
