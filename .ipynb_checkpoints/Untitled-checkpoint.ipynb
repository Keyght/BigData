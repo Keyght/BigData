{
 "cells": [
  {
   "cell_type": "code",
   "execution_count": null,
   "id": "8742ffa7",
   "metadata": {},
   "outputs": [],
   "source": [
    "import math\n",
    "a, h = (float(input('Введите высоту и основание треугольника ')) for i in range(2))\n",
    "a1, a2 = (float(input('Введите стороны прямоугольника ')) for i in range(2))\n",
    "r = float(input('Введите радиус окружности '))\n",
    "ans = {'треугольник': a*h/2, 'прямоугольник': a1*a2, 'круг': math.pi*r*r}\n",
    "print(ans)"
   ]
  },
  {
   "cell_type": "code",
   "execution_count": null,
   "id": "a3bc95f6",
   "metadata": {},
   "outputs": [],
   "source": []
  }
 ],
 "metadata": {
  "kernelspec": {
   "display_name": "Python 3 (ipykernel)",
   "language": "python",
   "name": "python3"
  },
  "language_info": {
   "codemirror_mode": {
    "name": "ipython",
    "version": 3
   },
   "file_extension": ".py",
   "mimetype": "text/x-python",
   "name": "python",
   "nbconvert_exporter": "python",
   "pygments_lexer": "ipython3",
   "version": "3.9.12"
  }
 },
 "nbformat": 4,
 "nbformat_minor": 5
}
