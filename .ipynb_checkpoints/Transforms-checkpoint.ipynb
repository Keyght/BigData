{
 "cells": [
  {
   "cell_type": "code",
   "execution_count": 2,
   "id": "ff3576b4",
   "metadata": {},
   "outputs": [
    {
     "name": "stdout",
     "output_type": "stream",
     "text": [
      "Ввод координат следующего террейна\n",
      "Vector3(6000,0,3000)\n",
      "For Terrain:\n",
      "Vector3( 16000 , 0 , -6000 )\n",
      "For Roads:\n",
      "Vector3( 10000 , 0 , -9000 )\n",
      "Ввод координат следующего террейна\n",
      "0\n"
     ]
    },
    {
     "ename": "IndexError",
     "evalue": "list index out of range",
     "output_type": "error",
     "traceback": [
      "\u001b[1;31m---------------------------------------------------------------------------\u001b[0m",
      "\u001b[1;31mIndexError\u001b[0m                                Traceback (most recent call last)",
      "Input \u001b[1;32mIn [2]\u001b[0m, in \u001b[0;36m<cell line: 25>\u001b[1;34m()\u001b[0m\n\u001b[0;32m     26\u001b[0m \u001b[38;5;28mprint\u001b[39m(\u001b[38;5;124m'\u001b[39m\u001b[38;5;124mВвод координат следующего террейна\u001b[39m\u001b[38;5;124m'\u001b[39m)\n\u001b[0;32m     27\u001b[0m This \u001b[38;5;241m=\u001b[39m \u001b[38;5;28minput\u001b[39m()\n\u001b[1;32m---> 28\u001b[0m Current \u001b[38;5;241m=\u001b[39m \u001b[43mparseTrans\u001b[49m\u001b[43m(\u001b[49m\u001b[43mThis\u001b[49m\u001b[43m)\u001b[49m\n\u001b[0;32m     29\u001b[0m Res \u001b[38;5;241m=\u001b[39m []\n\u001b[0;32m     30\u001b[0m \u001b[38;5;28;01mfor\u001b[39;00m i \u001b[38;5;129;01min\u001b[39;00m \u001b[38;5;28mrange\u001b[39m(\u001b[38;5;28mlen\u001b[39m(Current)):\n",
      "Input \u001b[1;32mIn [2]\u001b[0m, in \u001b[0;36mparseTrans\u001b[1;34m(This)\u001b[0m\n\u001b[0;32m      2\u001b[0m This \u001b[38;5;241m=\u001b[39m This[\u001b[38;5;241m8\u001b[39m:]\n\u001b[0;32m      3\u001b[0m FirstFloat \u001b[38;5;241m=\u001b[39m This\u001b[38;5;241m.\u001b[39mpartition(\u001b[38;5;124m'\u001b[39m\u001b[38;5;124m,\u001b[39m\u001b[38;5;124m'\u001b[39m)[\u001b[38;5;241m0\u001b[39m]\n\u001b[1;32m----> 4\u001b[0m SecFloat \u001b[38;5;241m=\u001b[39m \u001b[43mThis\u001b[49m\u001b[38;5;241;43m.\u001b[39;49m\u001b[43msplit\u001b[49m\u001b[43m(\u001b[49m\u001b[38;5;124;43m'\u001b[39;49m\u001b[38;5;124;43m,\u001b[39;49m\u001b[38;5;124;43m'\u001b[39;49m\u001b[43m)\u001b[49m\u001b[43m[\u001b[49m\u001b[38;5;241;43m1\u001b[39;49m\u001b[43m]\u001b[49m\n\u001b[0;32m      5\u001b[0m ThiFloat \u001b[38;5;241m=\u001b[39m This\u001b[38;5;241m.\u001b[39msplit(\u001b[38;5;124m'\u001b[39m\u001b[38;5;124m,\u001b[39m\u001b[38;5;124m'\u001b[39m)[\u001b[38;5;241m2\u001b[39m]\n\u001b[0;32m      6\u001b[0m ThiFloat \u001b[38;5;241m=\u001b[39m ThiFloat[:\u001b[38;5;241m-\u001b[39m\u001b[38;5;241m1\u001b[39m] \n",
      "\u001b[1;31mIndexError\u001b[0m: list index out of range"
     ]
    }
   ],
   "source": [
    "def parseTrans(This):\n",
    "    This = This[8:]\n",
    "    FirstFloat = This.partition(',')[0]\n",
    "    SecFloat = This.split(',')[1]\n",
    "    ThiFloat = This.split(',')[2]\n",
    "    ThiFloat = ThiFloat[:-1] \n",
    "    return [int(FirstFloat),int(SecFloat),int(ThiFloat)]\n",
    "    \n",
    "\n",
    "TransformFirstBefore = 'Vector3(5000,0,2000)'\n",
    "\n",
    "TransformFirstAfter = 'Vector3(15000,0,-7000)'\n",
    "\n",
    "Before = parseTrans(TransformFirstBefore)\n",
    "\n",
    "After = parseTrans(TransformFirstAfter)\n",
    "\n",
    "Offset = []\n",
    "\n",
    "for i in range(len(Before)):\n",
    "        Offset.append(After[i] - Before[i])\n",
    "\n",
    "This = 1\n",
    "\n",
    "while This != 0:\n",
    "    print('Ввод координат следующего террейна')\n",
    "    This = input()\n",
    "    Current = parseTrans(This)\n",
    "    Res = []\n",
    "    for i in range(len(Current)):\n",
    "        Res.append(Current[i] + Offset[i])\n",
    "    print('For Terrain:')\n",
    "    print('Vector3(',Res[0],',',Res[1],',',Res[2],')')\n",
    "    print('For Roads:')\n",
    "    print('Vector3(',Offset[0],',',Offset[1],',',Offset[2],')')\n",
    "    "
   ]
  },
  {
   "cell_type": "code",
   "execution_count": null,
   "id": "48f04be2",
   "metadata": {},
   "outputs": [],
   "source": []
  },
  {
   "cell_type": "code",
   "execution_count": null,
   "id": "886c7287",
   "metadata": {},
   "outputs": [],
   "source": []
  }
 ],
 "metadata": {
  "kernelspec": {
   "display_name": "Python 3 (ipykernel)",
   "language": "python",
   "name": "python3"
  },
  "language_info": {
   "codemirror_mode": {
    "name": "ipython",
    "version": 3
   },
   "file_extension": ".py",
   "mimetype": "text/x-python",
   "name": "python",
   "nbconvert_exporter": "python",
   "pygments_lexer": "ipython3",
   "version": "3.9.12"
  }
 },
 "nbformat": 4,
 "nbformat_minor": 5
}
