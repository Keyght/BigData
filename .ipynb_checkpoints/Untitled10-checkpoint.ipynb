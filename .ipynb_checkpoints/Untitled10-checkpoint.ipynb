{
 "cells": [
  {
   "cell_type": "code",
   "execution_count": null,
   "id": "217b1a32",
   "metadata": {},
   "outputs": [],
   "source": [
    "TransformLastBefore = 'Vector3(100000,0,-55000)'\n",
    "\n",
    "FirstLength = 4000\n",
    "\n",
    "while True:\n",
    "    This = input()\n",
    "    This = This[8:]\n",
    "    FirstFloat = This.partition(',')[0]\n",
    "    SecFloat = This.split(',')[1]\n",
    "    ThiFloat = This.split(',')[2]\n",
    "    ThiFloat = ThiFloat[:-1]\n",
    "    print('Vector3(',FirstFloat,',',SecFloat,',',ThiFloat,')')"
   ]
  },
  {
   "cell_type": "code",
   "execution_count": null,
   "id": "574154d8",
   "metadata": {},
   "outputs": [],
   "source": []
  },
  {
   "cell_type": "code",
   "execution_count": null,
   "id": "74d66c9c",
   "metadata": {},
   "outputs": [],
   "source": []
  }
 ],
 "metadata": {
  "kernelspec": {
   "display_name": "Python 3 (ipykernel)",
   "language": "python",
   "name": "python3"
  },
  "language_info": {
   "codemirror_mode": {
    "name": "ipython",
    "version": 3
   },
   "file_extension": ".py",
   "mimetype": "text/x-python",
   "name": "python",
   "nbconvert_exporter": "python",
   "pygments_lexer": "ipython3",
   "version": "3.9.12"
  }
 },
 "nbformat": 4,
 "nbformat_minor": 5
}
