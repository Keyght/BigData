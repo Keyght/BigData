{
 "cells": [
  {
   "cell_type": "code",
   "execution_count": 2,
   "id": "18da5d8c",
   "metadata": {},
   "outputs": [
    {
     "name": "stdout",
     "output_type": "stream",
     "text": [
      "      age     sex     bmi  children smoker     region      charges\n",
      "0      19  female  27.900         0    yes  southwest  16884.92400\n",
      "1      18    male  33.770         1     no  southeast   1725.55230\n",
      "2      28    male  33.000         3     no  southeast   4449.46200\n",
      "3      33    male  22.705         0     no  northwest  21984.47061\n",
      "4      32    male  28.880         0     no  northwest   3866.85520\n",
      "...   ...     ...     ...       ...    ...        ...          ...\n",
      "1333   50    male  30.970         3     no  northwest  10600.54830\n",
      "1334   18  female  31.920         0     no  northeast   2205.98080\n",
      "1335   18  female  36.850         0     no  southeast   1629.83350\n",
      "1336   21  female  25.800         0     no  southwest   2007.94500\n",
      "1337   61  female  29.070         0    yes  northwest  29141.36030\n",
      "\n",
      "[1337 rows x 7 columns]\n",
      "age         0\n",
      "sex         0\n",
      "bmi         0\n",
      "children    0\n",
      "smoker      0\n",
      "region      0\n",
      "charges     0\n",
      "dtype: int64\n",
      "Список регионов:  ['southwest' 'southeast' 'northwest' 'northeast']\n"
     ]
    }
   ],
   "source": [
    "import pandas as pd\n",
    "s = pd.read_csv(\"insurance.csv\")\n",
    "s = s.drop_duplicates()\n",
    "s[s.duplicated(keep=False)]\n",
    "print(s)\n",
    "print (s.isna().sum())\n",
    "print (\"Список регионов: \", s['region'].unique())"
   ]
  },
  {
   "cell_type": "code",
   "execution_count": 3,
   "id": "ce88a1c5",
   "metadata": {},
   "outputs": [
    {
     "data": {
      "text/plain": [
       "F_onewayResult(statistic=39.48593864487439, pvalue=1.9087293927440606e-24)"
      ]
     },
     "execution_count": 3,
     "metadata": {},
     "output_type": "execute_result"
    }
   ],
   "source": [
    "import numpy as np\n",
    "import scipy.stats as stats\n",
    "\n",
    "bmi_regions_frame = pd.DataFrame({\"region\":s['region'], \"bmi\":s['bmi']}) \n",
    "groups = bmi_regions_frame.groupby(\"region\").groups\n",
    "\n",
    "southwest = bmi_regions_frame.bmi[groups[\"southwest\"]]\n",
    "southeast = bmi_regions_frame.bmi[groups[\"southeast\"]]\n",
    "northwest = bmi_regions_frame.bmi[groups[\"northwest\"]]\n",
    "northeast = bmi_regions_frame.bmi[groups[\"northeast\"]]\n",
    "\n",
    "stats.f_oneway(southwest, southeast, northwest, northeast)"
   ]
  },
  {
   "cell_type": "code",
   "execution_count": 4,
   "id": "750fec5e",
   "metadata": {},
   "outputs": [
    {
     "name": "stdout",
     "output_type": "stream",
     "text": [
      "                sum_sq      df          F        PR(>F)\n",
      "region     4057.813904     3.0  39.485939  1.908729e-24\n",
      "Residual  45662.381091  1333.0        NaN           NaN\n"
     ]
    }
   ],
   "source": [
    "import statsmodels.api as sm \n",
    "from statsmodels.formula.api import ols\n",
    "\n",
    "frame = pd.DataFrame({\"region\":s['region'], \"bmi\":s['bmi']}) \n",
    "\n",
    "model = ols('bmi ~ region', data = bmi_regions_frame).fit() \n",
    "anova_result = sm.stats.anova_lm(model, typ = 2) \n",
    "print(anova_result)"
   ]
  },
  {
   "cell_type": "code",
   "execution_count": 5,
   "id": "0d60d6a5",
   "metadata": {},
   "outputs": [
    {
     "name": "stdout",
     "output_type": "stream",
     "text": [
      "southwest southeast\n",
      "Ttest_indResult(statistic=-5.908373821545118, pvalue=5.4374009639680636e-09)\n",
      "pvalue * 6 3.2624405783808385e-08\n",
      "southwest northwest\n",
      "Ttest_indResult(statistic=3.289593460501664, pvalue=0.0010577505931067947)\n",
      "pvalue * 6 0.006346503558640768\n",
      "southwest northeast\n",
      "Ttest_indResult(statistic=3.1169000930045923, pvalue=0.0019086161671573072)\n",
      "pvalue * 6 0.011451697002943843\n",
      "southeast northwest\n",
      "Ttest_indResult(statistic=9.252137489219615, pvalue=2.7504255547794223e-19)\n",
      "pvalue * 6 1.6502553328676534e-18\n",
      "southeast northeast\n",
      "Ttest_indResult(statistic=8.790905562598699, pvalue=1.186014937424813e-17)\n",
      "pvalue * 6 7.116089624548878e-17\n",
      "northwest northeast\n",
      "Ttest_indResult(statistic=0.05038637314068614, pvalue=0.9598300701853016)\n",
      "pvalue * 6 5.75898042111181\n"
     ]
    }
   ],
   "source": [
    "pairs = []\n",
    "for region1 in range(len(s['region'].unique())-1): \n",
    "    for region2 in range (region1 + 1, len(s['region'].unique())):\n",
    "        pairs.append((s['region'].unique()[region1], s['region'].unique()[region2]))\n",
    "        \n",
    "for region1, region2 in pairs:\n",
    "    print(region1, region2)\n",
    "    test = stats.ttest_ind(bmi_regions_frame.bmi[groups[region1]], bmi_regions_frame.bmi[groups[region2]])\n",
    "    print(test)\n",
    "    print(\"pvalue * 6\", test[1]*6)\n",
    "    "
   ]
  },
  {
   "cell_type": "code",
   "execution_count": 6,
   "id": "95696904",
   "metadata": {},
   "outputs": [
    {
     "data": {
      "text/html": [
       "<table class=\"simpletable\">\n",
       "<caption>Multiple Comparison of Means - Tukey HSD, FWER=0.05</caption>\n",
       "<tr>\n",
       "   <th>group1</th>    <th>group2</th>   <th>meandiff</th>  <th>p-adj</th>  <th>lower</th>   <th>upper</th>  <th>reject</th>\n",
       "</tr>\n",
       "<tr>\n",
       "  <td>northeast</td> <td>northwest</td>   <td>0.022</td>    <td>1.0</td>  <td>-1.1608</td> <td>1.2048</td>   <td>False</td>\n",
       "</tr>\n",
       "<tr>\n",
       "  <td>northeast</td> <td>southeast</td>  <td>4.1825</td>   <td>-0.0</td>  <td>3.0326</td>  <td>5.3324</td>   <td>True</td> \n",
       "</tr>\n",
       "<tr>\n",
       "  <td>northeast</td> <td>southwest</td>  <td>1.4231</td>  <td>0.0107</td> <td>0.2412</td>   <td>2.605</td>   <td>True</td> \n",
       "</tr>\n",
       "<tr>\n",
       "  <td>northwest</td> <td>southeast</td>  <td>4.1605</td>   <td>-0.0</td>  <td>3.0106</td>  <td>5.3104</td>   <td>True</td> \n",
       "</tr>\n",
       "<tr>\n",
       "  <td>northwest</td> <td>southwest</td>  <td>1.4011</td>  <td>0.0125</td> <td>0.2192</td>   <td>2.583</td>   <td>True</td> \n",
       "</tr>\n",
       "<tr>\n",
       "  <td>southeast</td> <td>southwest</td>  <td>-2.7594</td>   <td>0.0</td>  <td>-3.9083</td> <td>-1.6104</td>  <td>True</td> \n",
       "</tr>\n",
       "</table>"
      ],
      "text/plain": [
       "<class 'statsmodels.iolib.table.SimpleTable'>"
      ]
     },
     "execution_count": 6,
     "metadata": {},
     "output_type": "execute_result"
    },
    {
     "data": {
      "image/png": "[encoded data removed]",
      "text/plain": [
       "<Figure size 720x432 with 1 Axes>"
      ]
     },
     "metadata": {
      "needs_background": "light"
     },
     "output_type": "display_data"
    }
   ],
   "source": [
    "from statsmodels.stats.multicomp import pairwise_tukeyhsd\n",
    "tukey = pairwise_tukeyhsd(endog = s['bmi'], groups = s['region'], alpha = 0.05) \n",
    "tukey.plot_simultaneous() \n",
    "tukey.summary()"
   ]
  },
  {
   "cell_type": "code",
   "execution_count": 7,
   "id": "d7f14e78",
   "metadata": {},
   "outputs": [
    {
     "data": {
      "text/html": [
       "<div>\n",
       "<style scoped>\n",
       "    .dataframe tbody tr th:only-of-type {\n",
       "        vertical-align: middle;\n",
       "    }\n",
       "\n",
       "    .dataframe tbody tr th {\n",
       "        vertical-align: top;\n",
       "    }\n",
       "\n",
       "    .dataframe thead th {\n",
       "        text-align: right;\n",
       "    }\n",
       "</style>\n",
       "<table border=\"1\" class=\"dataframe\">\n",
       "  <thead>\n",
       "    <tr style=\"text-align: right;\">\n",
       "      <th></th>\n",
       "      <th>sum_sq</th>\n",
       "      <th>df</th>\n",
       "      <th>F</th>\n",
       "      <th>PR(&gt;F)</th>\n",
       "    </tr>\n",
       "  </thead>\n",
       "  <tbody>\n",
       "    <tr>\n",
       "      <th>C(region)</th>\n",
       "      <td>4036.141807</td>\n",
       "      <td>3.0</td>\n",
       "      <td>39.381780</td>\n",
       "      <td>2.215903e-24</td>\n",
       "    </tr>\n",
       "    <tr>\n",
       "      <th>C(sex)</th>\n",
       "      <td>85.359929</td>\n",
       "      <td>1.0</td>\n",
       "      <td>2.498643</td>\n",
       "      <td>1.141824e-01</td>\n",
       "    </tr>\n",
       "    <tr>\n",
       "      <th>C(region):C(sex)</th>\n",
       "      <td>175.040197</td>\n",
       "      <td>3.0</td>\n",
       "      <td>1.707917</td>\n",
       "      <td>1.635099e-01</td>\n",
       "    </tr>\n",
       "    <tr>\n",
       "      <th>Residual</th>\n",
       "      <td>45401.980965</td>\n",
       "      <td>1329.0</td>\n",
       "      <td>NaN</td>\n",
       "      <td>NaN</td>\n",
       "    </tr>\n",
       "  </tbody>\n",
       "</table>\n",
       "</div>"
      ],
      "text/plain": [
       "                        sum_sq      df          F        PR(>F)\n",
       "C(region)          4036.141807     3.0  39.381780  2.215903e-24\n",
       "C(sex)               85.359929     1.0   2.498643  1.141824e-01\n",
       "C(region):C(sex)    175.040197     3.0   1.707917  1.635099e-01\n",
       "Residual          45401.980965  1329.0        NaN           NaN"
      ]
     },
     "execution_count": 7,
     "metadata": {},
     "output_type": "execute_result"
    }
   ],
   "source": [
    "s1 = pd.DataFrame({'bmi': s['bmi'], 'sex': s['sex'], 'region': s['region']})\n",
    "\n",
    "model = ols('bmi ~ C(region) + C(sex) + C(region):C(sex)', data=s).fit() \n",
    "sm.stats.anova_lm(model, typ=2)"
   ]
  },
  {
   "cell_type": "code",
   "execution_count": 8,
   "id": "cb973cd3",
   "metadata": {},
   "outputs": [
    {
     "data": {
      "text/html": [
       "<table class=\"simpletable\">\n",
       "<caption>Multiple Comparison of Means - Tukey HSD, FWER=0.05</caption>\n",
       "<tr>\n",
       "        <th>group1</th>             <th>group2</th>       <th>meandiff</th>  <th>p-adj</th>  <th>lower</th>   <th>upper</th>  <th>reject</th>\n",
       "</tr>\n",
       "<tr>\n",
       "  <td>northeast / female</td>  <td>northeast / male</td>   <td>-0.2998</td> <td>0.9998</td> <td>-2.2713</td> <td>1.6718</td>   <td>False</td>\n",
       "</tr>\n",
       "<tr>\n",
       "  <td>northeast / female</td> <td>northwest / female</td>  <td>-0.0464</td>   <td>1.0</td>  <td>-2.0149</td> <td>1.9222</td>   <td>False</td>\n",
       "</tr>\n",
       "<tr>\n",
       "  <td>northeast / female</td>  <td>northwest / male</td>   <td>-0.2133</td>   <td>1.0</td>  <td>-2.194</td>  <td>1.7674</td>   <td>False</td>\n",
       "</tr>\n",
       "<tr>\n",
       "  <td>northeast / female</td> <td>southeast / female</td>  <td>3.3469</td>    <td>0.0</td>  <td>1.4093</td>  <td>5.2846</td>   <td>True</td> \n",
       "</tr>\n",
       "<tr>\n",
       "  <td>northeast / female</td>  <td>southeast / male</td>   <td>4.6657</td>    <td>0.0</td>  <td>2.7627</td>  <td>6.5686</td>   <td>True</td> \n",
       "</tr>\n",
       "<tr>\n",
       "  <td>northeast / female</td> <td>southwest / female</td>  <td>0.7362</td>  <td>0.9498</td> <td>-1.2384</td> <td>2.7107</td>   <td>False</td>\n",
       "</tr>\n",
       "<tr>\n",
       "  <td>northeast / female</td>  <td>southwest / male</td>   <td>1.8051</td>   <td>0.101</td> <td>-0.1664</td> <td>3.7767</td>   <td>False</td>\n",
       "</tr>\n",
       "<tr>\n",
       "   <td>northeast / male</td>  <td>northwest / female</td>  <td>0.2534</td>  <td>0.9999</td> <td>-1.709</td>  <td>2.2159</td>   <td>False</td>\n",
       "</tr>\n",
       "<tr>\n",
       "   <td>northeast / male</td>   <td>northwest / male</td>   <td>0.0864</td>    <td>1.0</td>  <td>-1.8882</td> <td>2.0611</td>   <td>False</td>\n",
       "</tr>\n",
       "<tr>\n",
       "   <td>northeast / male</td>  <td>southeast / female</td>  <td>3.6467</td>    <td>0.0</td>  <td>1.7153</td>  <td>5.5782</td>   <td>True</td> \n",
       "</tr>\n",
       "<tr>\n",
       "   <td>northeast / male</td>   <td>southeast / male</td>   <td>4.9655</td>   <td>-0.0</td>  <td>3.0688</td>  <td>6.8621</td>   <td>True</td> \n",
       "</tr>\n",
       "<tr>\n",
       "   <td>northeast / male</td>  <td>southwest / female</td>   <td>1.036</td>  <td>0.7519</td> <td>-0.9325</td> <td>3.0044</td>   <td>False</td>\n",
       "</tr>\n",
       "<tr>\n",
       "   <td>northeast / male</td>   <td>southwest / male</td>   <td>2.1049</td>  <td>0.0259</td> <td>0.1395</td>  <td>4.0703</td>   <td>True</td> \n",
       "</tr>\n",
       "<tr>\n",
       "  <td>northwest / female</td>  <td>northwest / male</td>   <td>-0.167</td>    <td>1.0</td>  <td>-2.1386</td> <td>1.8047</td>   <td>False</td>\n",
       "</tr>\n",
       "<tr>\n",
       "  <td>northwest / female</td> <td>southeast / female</td>  <td>3.3933</td>    <td>0.0</td>  <td>1.4649</td>  <td>5.3217</td>   <td>True</td> \n",
       "</tr>\n",
       "<tr>\n",
       "  <td>northwest / female</td>  <td>southeast / male</td>    <td>4.712</td>    <td>0.0</td>  <td>2.8185</td>  <td>6.6056</td>   <td>True</td> \n",
       "</tr>\n",
       "<tr>\n",
       "  <td>northwest / female</td> <td>southwest / female</td>  <td>0.7825</td>  <td>0.9295</td> <td>-1.1829</td>  <td>2.748</td>   <td>False</td>\n",
       "</tr>\n",
       "<tr>\n",
       "  <td>northwest / female</td>  <td>southwest / male</td>   <td>1.8515</td>  <td>0.0809</td> <td>-0.111</td>  <td>3.8139</td>   <td>False</td>\n",
       "</tr>\n",
       "<tr>\n",
       "   <td>northwest / male</td>  <td>southeast / female</td>  <td>3.5603</td>    <td>0.0</td>  <td>1.6195</td>  <td>5.5011</td>   <td>True</td> \n",
       "</tr>\n",
       "<tr>\n",
       "   <td>northwest / male</td>   <td>southeast / male</td>    <td>4.879</td>    <td>0.0</td>  <td>2.9729</td>  <td>6.7852</td>   <td>True</td> \n",
       "</tr>\n",
       "<tr>\n",
       "   <td>northwest / male</td>  <td>southwest / female</td>  <td>0.9495</td>  <td>0.8298</td> <td>-1.0281</td> <td>2.9272</td>   <td>False</td>\n",
       "</tr>\n",
       "<tr>\n",
       "   <td>northwest / male</td>   <td>southwest / male</td>   <td>2.0185</td>   <td>0.041</td> <td>0.0438</td>  <td>3.9931</td>   <td>True</td> \n",
       "</tr>\n",
       "<tr>\n",
       "  <td>southeast / female</td>  <td>southeast / male</td>   <td>1.3187</td>  <td>0.3828</td> <td>-0.5427</td> <td>3.1801</td>   <td>False</td>\n",
       "</tr>\n",
       "<tr>\n",
       "  <td>southeast / female</td> <td>southwest / female</td>  <td>-2.6108</td> <td>0.0012</td> <td>-4.5453</td> <td>-0.6762</td>  <td>True</td> \n",
       "</tr>\n",
       "<tr>\n",
       "  <td>southeast / female</td>  <td>southwest / male</td>   <td>-1.5418</td> <td>0.2308</td> <td>-3.4733</td> <td>0.3896</td>   <td>False</td>\n",
       "</tr>\n",
       "<tr>\n",
       "   <td>southeast / male</td>  <td>southwest / female</td>  <td>-3.9295</td>   <td>0.0</td>  <td>-5.8293</td> <td>-2.0297</td>  <td>True</td> \n",
       "</tr>\n",
       "<tr>\n",
       "   <td>southeast / male</td>   <td>southwest / male</td>   <td>-2.8606</td> <td>0.0001</td> <td>-4.7572</td> <td>-0.9639</td>  <td>True</td> \n",
       "</tr>\n",
       "<tr>\n",
       "  <td>southwest / female</td>  <td>southwest / male</td>    <td>1.069</td>  <td>0.7205</td> <td>-0.8995</td> <td>3.0374</td>   <td>False</td>\n",
       "</tr>\n",
       "</table>"
      ],
      "text/plain": [
       "<class 'statsmodels.iolib.table.SimpleTable'>"
      ]
     },
     "execution_count": 8,
     "metadata": {},
     "output_type": "execute_result"
    },
    {
     "data": {
      "image/png": "[encoded data removed]",
      "text/plain": [
       "<Figure size 720x432 with 1 Axes>"
      ]
     },
     "metadata": {
      "needs_background": "light"
     },
     "output_type": "display_data"
    }
   ],
   "source": [
    "s1['comb'] = s1.region + ' / ' + s1.sex\n",
    "tukey = pairwise_tukeyhsd(endog = s1['bmi'], groups = s1['comb'], alpha = 0.05) \n",
    "tukey.plot_simultaneous() \n",
    "tukey.summary()"
   ]
  },
  {
   "cell_type": "code",
   "execution_count": null,
   "id": "8cb563c2",
   "metadata": {},
   "outputs": [],
   "source": []
  }
 ],
 "metadata": {
  "kernelspec": {
   "display_name": "Python 3 (ipykernel)",
   "language": "python",
   "name": "python3"
  },
  "language_info": {
   "codemirror_mode": {
    "name": "ipython",
    "version": 3
   },
   "file_extension": ".py",
   "mimetype": "text/x-python",
   "name": "python",
   "nbconvert_exporter": "python",
   "pygments_lexer": "ipython3",
   "version": "3.9.12"
  }
 },
 "nbformat": 4,
 "nbformat_minor": 5
}
